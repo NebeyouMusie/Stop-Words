{
  "nbformat": 4,
  "nbformat_minor": 0,
  "metadata": {
    "colab": {
      "provenance": []
    },
    "kernelspec": {
      "name": "python3",
      "display_name": "Python 3"
    },
    "language_info": {
      "name": "python"
    }
  },
  "cells": [
    {
      "cell_type": "markdown",
      "source": [
        "# Stop Words"
      ],
      "metadata": {
        "id": "dpoM-m0rb7IC"
      }
    },
    {
      "cell_type": "code",
      "execution_count": 1,
      "metadata": {
        "id": "cm1nqgH0bXuD"
      },
      "outputs": [],
      "source": [
        "# import spacy and load model\n",
        "import spacy\n",
        "\n",
        "nlp = spacy.load('en_core_web_sm')"
      ]
    },
    {
      "cell_type": "markdown",
      "source": [
        "## Problem 1:\n",
        "\n",
        "- From a Given Text, Count the number of stop words in it.\n",
        "- Print the percentage of stop word tokens compared to all tokens in a given text."
      ],
      "metadata": {
        "id": "Ssij-knGcMj4"
      }
    },
    {
      "cell_type": "code",
      "source": [
        "text = '''\n",
        "Thor: Love and Thunder is a 2022 American superhero film based on Marvel Comics featuring the character Thor, produced by Marvel Studios and\n",
        "distributed by Walt Disney Studios Motion Pictures. It is the sequel to Thor: Ragnarok (2017) and the 29th film in the Marvel Cinematic Universe (MCU).\n",
        "The film is directed by Taika Waititi, who co-wrote the script with Jennifer Kaytin Robinson, and stars Chris Hemsworth as Thor alongside Christian Bale, Tessa Thompson,\n",
        "Jaimie Alexander, Waititi, Russell Crowe, and Natalie Portman. In the film, Thor attempts to find inner peace, but must return to action and recruit Valkyrie (Thompson),\n",
        "Korg (Waititi), and Jane Foster (Portman)—who is now the Mighty Thor—to stop Gorr the God Butcher (Bale) from eliminating all gods.\n",
        "'''\n",
        "\n",
        "#step1: Create the object 'doc' for the given text using nlp()\n",
        "doc = nlp(text)\n",
        "\n",
        "\n",
        "#step2: define the variables to keep track of stopwords count and total words count\n",
        "count = 0\n",
        "stop_words = []\n",
        "\n",
        "#step3: iterate through all the words in the document\n",
        "for token in doc:\n",
        "  if token.is_stop:\n",
        "    stop_words.append(token)\n",
        "\n",
        "#step4: print the count of stop words\n",
        "count = len(stop_words)\n",
        "print('Count of stop words: ', count)\n",
        "\n",
        "\n",
        "#step5: print the percentage of stop words compared to total words in the text\n",
        "percent = (count / len(doc)) * 100\n",
        "print('percentage of stop words compared to total words: ', percent)"
      ],
      "metadata": {
        "colab": {
          "base_uri": "https://localhost:8080/"
        },
        "id": "afP1r6cTcQnt",
        "outputId": "5b37dea3-0918-484b-ee74-789b2f636862"
      },
      "execution_count": 4,
      "outputs": [
        {
          "output_type": "stream",
          "name": "stdout",
          "text": [
            "Count of stop words:  40\n",
            "percentage of stop words compared to total words:  25.0\n"
          ]
        }
      ]
    },
    {
      "cell_type": "markdown",
      "source": [
        "## Problem 2:\n",
        "\n",
        "- Spacy default implementation considers \"not\" as a stop word. But in some scenarios removing 'not' will completely change the meaning of the statement/text. For Example, consider these two statements:\n",
        "  - this is a good movie       ----> Positive Statement\n",
        "  - this is not a good movie   ----> Negative Statement\n",
        "- So, after applying stopwords to those 2 texts, both will return \"good movie\" and does not respect the polarity/sentiments of text.\n",
        "- Now, your task is to remove this stop word \"not\" in spaCy and help in distinguishing the texts.\n",
        "- Hint: GOOGLE IT! Google is your friend."
      ],
      "metadata": {
        "id": "_2VRjwb4dPVe"
      }
    },
    {
      "cell_type": "code",
      "source": [
        "text1 = 'this is a good movie'\n",
        "text2 = 'this is not a good movie'\n",
        "\n",
        "# pre-processing function to pass the text and to remove all the stop words and finally get the cleaned form\n",
        "def preprocess(text):\n",
        "  doc = nlp(text)\n",
        "  no_stop_words = [token.text for token in doc if not token.is_stop]\n",
        "  return \" \".join(no_stop_words)\n",
        "\n",
        "\n",
        "\n",
        "#Step1: remove the stopword 'not' in spacy\n",
        "nlp.vocab['not'].is_stop = False\n",
        "\n",
        "#step2: send the two texts given above into the pre-process function and store the transformed texts\n",
        "preprocessed_text1 = preprocess(text1)\n",
        "preprocessed_text2 = preprocess(text2)\n",
        "\n",
        "\n",
        "#step3: finally print those 2 transformed texts\n",
        "print(preprocess(text1))\n",
        "print(preprocess(text2))\n"
      ],
      "metadata": {
        "colab": {
          "base_uri": "https://localhost:8080/"
        },
        "id": "AN1LRuhgdZ2q",
        "outputId": "7cfb6bbd-53a4-4fe6-c387-e4472e25c8b6"
      },
      "execution_count": 14,
      "outputs": [
        {
          "output_type": "stream",
          "name": "stdout",
          "text": [
            "good movie\n",
            "not good movie\n"
          ]
        }
      ]
    },
    {
      "cell_type": "markdown",
      "source": [
        "## Problem 3:\n",
        "\n",
        "- From a given text, output the most frequently used token after removing all the stop word tokens and punctuations in it."
      ],
      "metadata": {
        "id": "HPL4aYpGiZfG"
      }
    },
    {
      "cell_type": "code",
      "source": [
        "text = '''The India men's national cricket team, also known as Team India or the Men in Blue, represents India in men's international cricket.\n",
        "It is governed by the Board of Control for Cricket in India (BCCI), and is a Full Member of the International Cricket Council (ICC) with Test,\n",
        "One Day International (ODI) and Twenty20 International (T20I) status. Cricket was introduced to India by British sailors in the 18th century, and the\n",
        "first cricket club was established in 1792. India's national cricket team played its first Test match on 25 June 1932 at Lord's, becoming the sixth team to be\n",
        "granted test cricket status.\n",
        "'''\n",
        "\n",
        "\n",
        "#step1: Create the object 'doc' for the given text using nlp()\n",
        "doc = nlp(text)\n",
        "\n",
        "\n",
        "#step2: remove all the stop words and punctuations and store all the remaining tokens in a new list\n",
        "processed_text = []\n",
        "for token in doc:\n",
        "  if not token.is_stop and not token.is_punct:\n",
        "    processed_text.append(token.text)\n",
        "\n",
        "#step3: create a new dictionary and get the frequency of words by iterating through the list which contains stored tokens\n",
        "frequency_tokens = {}\n",
        "for token in processed_text:\n",
        "  if token != '\\n' and token != ' ': #As spacy considers new line and empty spaces as seperate token, it's better to ignore them\n",
        "    if token not in frequency_tokens:\n",
        "      frequency_tokens[token] = 1 #if a particular token occurs for the first time, we initialise it to 1\n",
        "    else:\n",
        "      frequency_tokens[token] += 1  #if a partcular token is already present, then increment by 1 based on value already presented\n",
        "\n",
        "\n",
        "#step4: get the maximum frequency word\n",
        "max_freq_word = max(frequency_tokens.keys(), key=(lambda key: frequency_tokens[key]))\n",
        "\n",
        "\n",
        "#step5: finally print the result\n",
        "print(frequency_tokens)\n",
        "print(f'Maximum frequency word: {max_freq_word}')"
      ],
      "metadata": {
        "colab": {
          "base_uri": "https://localhost:8080/"
        },
        "id": "DIqnelgSifyj",
        "outputId": "7a7ba9b9-b418-4796-92d8-4903d2780744"
      },
      "execution_count": 23,
      "outputs": [
        {
          "output_type": "stream",
          "name": "stdout",
          "text": [
            "{'India': 6, 'men': 2, 'national': 2, 'cricket': 5, 'team': 3, 'also': 1, 'known': 1, 'Team': 1, 'Men': 1, 'Blue': 1, 'represents': 1, 'international': 1, 'governed': 1, 'Board': 1, 'of': 2, 'Control': 1, 'for': 1, 'Cricket': 3, 'BCCI': 1, 'Full': 1, 'Member': 1, 'International': 3, 'Council': 1, 'ICC': 1, 'Test': 2, 'One': 1, 'Day': 1, 'ODI': 1, 'Twenty20': 1, 'T20I': 1, 'status': 2, 'introduced': 1, 'British': 1, 'sailors': 1, '18th': 1, 'century': 1, 'first': 2, 'club': 1, 'established': 1, '1792': 1, 'played': 1, 'its': 1, 'match': 1, '25': 1, 'June': 1, '1932': 1, 'at': 1, 'Lord': 1, 'becoming': 1, 'sixth': 1, 'be': 1, 'granted': 1, 'test': 1}\n",
            "Maximum frequency word: India\n"
          ]
        }
      ]
    }
  ]
}